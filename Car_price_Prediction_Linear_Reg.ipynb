{
 "cells": [
  {
   "cell_type": "code",
   "execution_count": null,
   "metadata": {},
   "outputs": [],
   "source": [
    "1. linear regression: Relationship that stats how 2 variables are linearly changing. \n",
    "    \n",
    "2. it helps us to predict an outcome(target var, dependent var- 1 dev in the model) using independent variables(predictors)\n",
    "    \n",
    "3. supervised learning: DV given history...\n",
    "   unsupervised learning: DV not given...\n",
    "\n",
    "4. Simple LR----Equation--    Y=mX+c or Y=b1x1+incercept\n",
    "\n",
    "  Multiple.L.R------line  -----  Y= b1x1+b2x2+b3x3+...+intercept\n",
    "                                \n",
    "    \n",
    "Betas-- weight of variable \n",
    "intercept-- By default value of salary(DV) when x is not given...\n",
    "\n",
    "\n",
    "5. Linear regression aims at finding a best best fit line that minimizes the difference between actual DV and predicted var\n",
    "\n",
    "\n",
    "----- Assumptions of linear regression:\n",
    "    \n",
    "    \n",
    "1. there should be linear relationship between DV and IV's\n",
    "2. the IV's should be non correlated...\n",
    "3. (actual-predicted)= error...residual...\n",
    "--3.1  -- residuals should be normally distributed...QQ plot....\n",
    "--3.2 --- residuals should not have any autocorelation...\n",
    "          identify AC- dublin watson( DW test)- 1.5-2.5....there is no autocorrelation, \n",
    "          <1.5--- +autocorrelation\n",
    "          >2.5---- -ve autocorelation\n",
    "            \n",
    "          issue- coefficients bias...those will not be the correct betas....\n",
    "        \n",
    "        \n",
    "4. sum of residuals should be close to 0 and avg of residuals should be constant    \n",
    "5. variance of errors should be constant to----homoscadascity--\n",
    "  for predicted values....errors should have constant variance...100, 100, 2% error...10%..2%\n",
    "  --- heteroscadascity\n",
    "   issue---- coefficients bias...those will not be the correct betas....\n",
    "\n",
    "    \n",
    "\n",
    "Project- 1 linear regression...\n",
    "\n",
    "Business Goal:\n",
    "    \n",
    "    \n",
    "A Chinese automobile company Geely Auto aspires to enter the US market by setting up their manufacturing unit there\n",
    "and producing cars locally to give competition to their US and European counterparts.\n",
    "\n",
    "They have contracted an automobile consulting company to understand the factors on which the pricing of cars depends. \n",
    "Specifically, they want to understand the factors affecting the pricing of cars in the American market,\n",
    "since those may be very different from the Chinese market. The company wants to know:\n",
    "\n",
    "Which variables are significant in predicting the price of a car?\n",
    "How well those variables describe the price of a car?\n",
    "Based on various market surveys, the consulting firm has gathered a large data set of different types of cars \n",
    "across the America market.\n",
    "\n",
    "DV?--- price\n",
    "what should be the IV's?-- color, manufacture, maker, model, HP, mpg, cyli, ..... \n",
    "History data--- existing US market cars data is our history data...\n",
    "objective?----- to predict price of cars in a new market\n",
    "\n",
    "\n",
    "\n",
    "\n",
    "We will cover the following linear algorithms:\n",
    "\n",
    "Linear Regression-- DV?--- price-- continuous....Lin REg\n",
    "\n",
    "OLS- ordinary least square reg\n",
    "\n",
    "LSR- least sqruare reg\n",
    "\n",
    "\n",
    "actual                       predicted price\n",
    "price    mpg     hp   cyl\n",
    "100      10       8     2    Y=incercept+b1*mpg+b2*hp+b3*cyl= 20+11*3+7*4+4*10=121\n",
    "120      11       7     4    121\n",
    "200       8       12    6\n",
    "\n",
    "\n",
    "new cars\n",
    "?       12       10     4\n",
    "\n",
    "Y=20+11*12+7*10+10*4= 262\n"
   ]
  },
  {
   "cell_type": "code",
   "execution_count": 1,
   "metadata": {},
   "outputs": [],
   "source": [
    "import pandas as pd\n",
    "import numpy as np\n",
    "import matplotlib.pyplot as plt"
   ]
  },
  {
   "cell_type": "code",
   "execution_count": null,
   "metadata": {},
   "outputs": [],
   "source": [
    "#importing sklearn libraries \n",
    "from sklearn.model_selection import train_test_split\n",
    "from sklearn.preprocessing import MinMaxScaler\n",
    "from sklearn.feature_selection import RFE\n",
    "from sklearn.linear_model import LinearRegression\n",
    "from sklearn.metrics import r2_score\n",
    "\n",
    "#importing statsmodel api module\n",
    "import statsmodels.api as sm"
   ]
  },
  {
   "cell_type": "code",
   "execution_count": 2,
   "metadata": {},
   "outputs": [],
   "source": [
    "############################ Phase 1: Importing/loading/Reading dataset:\n",
    "\n",
    "df=pd.read_csv(\"C:\\\\Users\\\\dh207150\\\\Desktop\\\\Car_price.csv\")"
   ]
  },
  {
   "cell_type": "code",
   "execution_count": 4,
   "metadata": {},
   "outputs": [
    {
     "data": {
      "text/plain": [
       "(205, 26)"
      ]
     },
     "execution_count": 4,
     "metadata": {},
     "output_type": "execute_result"
    }
   ],
   "source": [
    "df.shape"
   ]
  },
  {
   "cell_type": "code",
   "execution_count": 6,
   "metadata": {},
   "outputs": [
    {
     "data": {
      "text/plain": [
       "Index(['car_ID', 'symboling', 'CarName', 'fueltype', 'aspiration',\n",
       "       'doornumber', 'carbody', 'drivewheel', 'enginelocation', 'wheelbase',\n",
       "       'carlength', 'carwidth', 'carheight', 'curbweight', 'enginetype',\n",
       "       'cylindernumber', 'enginesize', 'fuelsystem', 'boreratio', 'stroke',\n",
       "       'compressionratio', 'horsepower', 'peakrpm', 'citympg', 'highwaympg',\n",
       "       'price'],\n",
       "      dtype='object')"
      ]
     },
     "execution_count": 6,
     "metadata": {},
     "output_type": "execute_result"
    }
   ],
   "source": [
    "df.columns"
   ]
  },
  {
   "cell_type": "code",
   "execution_count": 7,
   "metadata": {
    "collapsed": true
   },
   "outputs": [
    {
     "name": "stdout",
     "output_type": "stream",
     "text": [
      "<class 'pandas.core.frame.DataFrame'>\n",
      "RangeIndex: 205 entries, 0 to 204\n",
      "Data columns (total 26 columns):\n",
      " #   Column            Non-Null Count  Dtype  \n",
      "---  ------            --------------  -----  \n",
      " 0   car_ID            205 non-null    int64  \n",
      " 1   symboling         205 non-null    int64  \n",
      " 2   CarName           205 non-null    object \n",
      " 3   fueltype          205 non-null    object \n",
      " 4   aspiration        205 non-null    object \n",
      " 5   doornumber        205 non-null    object \n",
      " 6   carbody           205 non-null    object \n",
      " 7   drivewheel        205 non-null    object \n",
      " 8   enginelocation    205 non-null    object \n",
      " 9   wheelbase         205 non-null    float64\n",
      " 10  carlength         205 non-null    float64\n",
      " 11  carwidth          205 non-null    float64\n",
      " 12  carheight         205 non-null    float64\n",
      " 13  curbweight        205 non-null    int64  \n",
      " 14  enginetype        205 non-null    object \n",
      " 15  cylindernumber    205 non-null    object \n",
      " 16  enginesize        205 non-null    int64  \n",
      " 17  fuelsystem        205 non-null    object \n",
      " 18  boreratio         205 non-null    float64\n",
      " 19  stroke            205 non-null    float64\n",
      " 20  compressionratio  205 non-null    float64\n",
      " 21  horsepower        205 non-null    int64  \n",
      " 22  peakrpm           205 non-null    int64  \n",
      " 23  citympg           205 non-null    int64  \n",
      " 24  highwaympg        205 non-null    int64  \n",
      " 25  price             205 non-null    float64\n",
      "dtypes: float64(8), int64(8), object(10)\n",
      "memory usage: 41.8+ KB\n"
     ]
    }
   ],
   "source": [
    "########################################### Phase 2- Data exploration:\n",
    "df.info()"
   ]
  },
  {
   "cell_type": "code",
   "execution_count": 8,
   "metadata": {
    "collapsed": true
   },
   "outputs": [
    {
     "data": {
      "text/plain": [
       "car_ID              0.0\n",
       "symboling           0.0\n",
       "CarName             0.0\n",
       "fueltype            0.0\n",
       "aspiration          0.0\n",
       "doornumber          0.0\n",
       "carbody             0.0\n",
       "drivewheel          0.0\n",
       "enginelocation      0.0\n",
       "wheelbase           0.0\n",
       "carlength           0.0\n",
       "carwidth            0.0\n",
       "carheight           0.0\n",
       "curbweight          0.0\n",
       "enginetype          0.0\n",
       "cylindernumber      0.0\n",
       "enginesize          0.0\n",
       "fuelsystem          0.0\n",
       "boreratio           0.0\n",
       "stroke              0.0\n",
       "compressionratio    0.0\n",
       "horsepower          0.0\n",
       "peakrpm             0.0\n",
       "citympg             0.0\n",
       "highwaympg          0.0\n",
       "price               0.0\n",
       "dtype: float64"
      ]
     },
     "execution_count": 8,
     "metadata": {},
     "output_type": "execute_result"
    }
   ],
   "source": [
    "#Checking the Null Values %age:\n",
    "\n",
    "round(((df.isna().sum() / df.shape[0]) * 100),2)"
   ]
  },
  {
   "cell_type": "code",
   "execution_count": 19,
   "metadata": {},
   "outputs": [],
   "source": [
    "########## Now analysisng the numericals columns\n",
    "\n",
    "int_vars=df.select_dtypes(exclude=\"object\")"
   ]
  },
  {
   "cell_type": "code",
   "execution_count": 22,
   "metadata": {},
   "outputs": [],
   "source": [
    "# Remove irrelant var:\n",
    "nvars=int_vars.drop(labels=[\"car_ID\",\"symboling\",\"doornumber\",\"cylindernumber\"],axis=1)"
   ]
  },
  {
   "cell_type": "code",
   "execution_count": 24,
   "metadata": {},
   "outputs": [
    {
     "data": {
      "text/html": [
       "<div>\n",
       "<style scoped>\n",
       "    .dataframe tbody tr th:only-of-type {\n",
       "        vertical-align: middle;\n",
       "    }\n",
       "\n",
       "    .dataframe tbody tr th {\n",
       "        vertical-align: top;\n",
       "    }\n",
       "\n",
       "    .dataframe thead th {\n",
       "        text-align: right;\n",
       "    }\n",
       "</style>\n",
       "<table border=\"1\" class=\"dataframe\">\n",
       "  <thead>\n",
       "    <tr style=\"text-align: right;\">\n",
       "      <th></th>\n",
       "      <th>wheelbase</th>\n",
       "      <th>carlength</th>\n",
       "      <th>carwidth</th>\n",
       "      <th>carheight</th>\n",
       "      <th>curbweight</th>\n",
       "      <th>enginesize</th>\n",
       "      <th>boreratio</th>\n",
       "      <th>stroke</th>\n",
       "      <th>compressionratio</th>\n",
       "      <th>horsepower</th>\n",
       "      <th>peakrpm</th>\n",
       "      <th>citympg</th>\n",
       "      <th>highwaympg</th>\n",
       "      <th>price</th>\n",
       "    </tr>\n",
       "  </thead>\n",
       "  <tbody>\n",
       "    <tr>\n",
       "      <th>count</th>\n",
       "      <td>205.000000</td>\n",
       "      <td>205.000000</td>\n",
       "      <td>205.000000</td>\n",
       "      <td>205.000000</td>\n",
       "      <td>205.000000</td>\n",
       "      <td>205.000000</td>\n",
       "      <td>205.000000</td>\n",
       "      <td>205.000000</td>\n",
       "      <td>205.000000</td>\n",
       "      <td>205.000000</td>\n",
       "      <td>205.000000</td>\n",
       "      <td>205.000000</td>\n",
       "      <td>205.000000</td>\n",
       "      <td>205.000000</td>\n",
       "    </tr>\n",
       "    <tr>\n",
       "      <th>mean</th>\n",
       "      <td>98.756585</td>\n",
       "      <td>174.049268</td>\n",
       "      <td>65.907805</td>\n",
       "      <td>53.724878</td>\n",
       "      <td>2555.565854</td>\n",
       "      <td>126.907317</td>\n",
       "      <td>3.329756</td>\n",
       "      <td>3.255415</td>\n",
       "      <td>10.142537</td>\n",
       "      <td>104.117073</td>\n",
       "      <td>5125.121951</td>\n",
       "      <td>25.219512</td>\n",
       "      <td>30.751220</td>\n",
       "      <td>13276.710571</td>\n",
       "    </tr>\n",
       "    <tr>\n",
       "      <th>std</th>\n",
       "      <td>6.021776</td>\n",
       "      <td>12.337289</td>\n",
       "      <td>2.145204</td>\n",
       "      <td>2.443522</td>\n",
       "      <td>520.680204</td>\n",
       "      <td>41.642693</td>\n",
       "      <td>0.270844</td>\n",
       "      <td>0.313597</td>\n",
       "      <td>3.972040</td>\n",
       "      <td>39.544167</td>\n",
       "      <td>476.985643</td>\n",
       "      <td>6.542142</td>\n",
       "      <td>6.886443</td>\n",
       "      <td>7988.852332</td>\n",
       "    </tr>\n",
       "    <tr>\n",
       "      <th>min</th>\n",
       "      <td>86.600000</td>\n",
       "      <td>141.100000</td>\n",
       "      <td>60.300000</td>\n",
       "      <td>47.800000</td>\n",
       "      <td>1488.000000</td>\n",
       "      <td>61.000000</td>\n",
       "      <td>2.540000</td>\n",
       "      <td>2.070000</td>\n",
       "      <td>7.000000</td>\n",
       "      <td>48.000000</td>\n",
       "      <td>4150.000000</td>\n",
       "      <td>13.000000</td>\n",
       "      <td>16.000000</td>\n",
       "      <td>5118.000000</td>\n",
       "    </tr>\n",
       "    <tr>\n",
       "      <th>25%</th>\n",
       "      <td>94.500000</td>\n",
       "      <td>166.300000</td>\n",
       "      <td>64.100000</td>\n",
       "      <td>52.000000</td>\n",
       "      <td>2145.000000</td>\n",
       "      <td>97.000000</td>\n",
       "      <td>3.150000</td>\n",
       "      <td>3.110000</td>\n",
       "      <td>8.600000</td>\n",
       "      <td>70.000000</td>\n",
       "      <td>4800.000000</td>\n",
       "      <td>19.000000</td>\n",
       "      <td>25.000000</td>\n",
       "      <td>7788.000000</td>\n",
       "    </tr>\n",
       "    <tr>\n",
       "      <th>50%</th>\n",
       "      <td>97.000000</td>\n",
       "      <td>173.200000</td>\n",
       "      <td>65.500000</td>\n",
       "      <td>54.100000</td>\n",
       "      <td>2414.000000</td>\n",
       "      <td>120.000000</td>\n",
       "      <td>3.310000</td>\n",
       "      <td>3.290000</td>\n",
       "      <td>9.000000</td>\n",
       "      <td>95.000000</td>\n",
       "      <td>5200.000000</td>\n",
       "      <td>24.000000</td>\n",
       "      <td>30.000000</td>\n",
       "      <td>10295.000000</td>\n",
       "    </tr>\n",
       "    <tr>\n",
       "      <th>75%</th>\n",
       "      <td>102.400000</td>\n",
       "      <td>183.100000</td>\n",
       "      <td>66.900000</td>\n",
       "      <td>55.500000</td>\n",
       "      <td>2935.000000</td>\n",
       "      <td>141.000000</td>\n",
       "      <td>3.580000</td>\n",
       "      <td>3.410000</td>\n",
       "      <td>9.400000</td>\n",
       "      <td>116.000000</td>\n",
       "      <td>5500.000000</td>\n",
       "      <td>30.000000</td>\n",
       "      <td>34.000000</td>\n",
       "      <td>16503.000000</td>\n",
       "    </tr>\n",
       "    <tr>\n",
       "      <th>max</th>\n",
       "      <td>120.900000</td>\n",
       "      <td>208.100000</td>\n",
       "      <td>72.300000</td>\n",
       "      <td>59.800000</td>\n",
       "      <td>4066.000000</td>\n",
       "      <td>326.000000</td>\n",
       "      <td>3.940000</td>\n",
       "      <td>4.170000</td>\n",
       "      <td>23.000000</td>\n",
       "      <td>288.000000</td>\n",
       "      <td>6600.000000</td>\n",
       "      <td>49.000000</td>\n",
       "      <td>54.000000</td>\n",
       "      <td>45400.000000</td>\n",
       "    </tr>\n",
       "  </tbody>\n",
       "</table>\n",
       "</div>"
      ],
      "text/plain": [
       "        wheelbase   carlength    carwidth   carheight   curbweight  \\\n",
       "count  205.000000  205.000000  205.000000  205.000000   205.000000   \n",
       "mean    98.756585  174.049268   65.907805   53.724878  2555.565854   \n",
       "std      6.021776   12.337289    2.145204    2.443522   520.680204   \n",
       "min     86.600000  141.100000   60.300000   47.800000  1488.000000   \n",
       "25%     94.500000  166.300000   64.100000   52.000000  2145.000000   \n",
       "50%     97.000000  173.200000   65.500000   54.100000  2414.000000   \n",
       "75%    102.400000  183.100000   66.900000   55.500000  2935.000000   \n",
       "max    120.900000  208.100000   72.300000   59.800000  4066.000000   \n",
       "\n",
       "       enginesize   boreratio      stroke  compressionratio  horsepower  \\\n",
       "count  205.000000  205.000000  205.000000        205.000000  205.000000   \n",
       "mean   126.907317    3.329756    3.255415         10.142537  104.117073   \n",
       "std     41.642693    0.270844    0.313597          3.972040   39.544167   \n",
       "min     61.000000    2.540000    2.070000          7.000000   48.000000   \n",
       "25%     97.000000    3.150000    3.110000          8.600000   70.000000   \n",
       "50%    120.000000    3.310000    3.290000          9.000000   95.000000   \n",
       "75%    141.000000    3.580000    3.410000          9.400000  116.000000   \n",
       "max    326.000000    3.940000    4.170000         23.000000  288.000000   \n",
       "\n",
       "           peakrpm     citympg  highwaympg         price  \n",
       "count   205.000000  205.000000  205.000000    205.000000  \n",
       "mean   5125.121951   25.219512   30.751220  13276.710571  \n",
       "std     476.985643    6.542142    6.886443   7988.852332  \n",
       "min    4150.000000   13.000000   16.000000   5118.000000  \n",
       "25%    4800.000000   19.000000   25.000000   7788.000000  \n",
       "50%    5200.000000   24.000000   30.000000  10295.000000  \n",
       "75%    5500.000000   30.000000   34.000000  16503.000000  \n",
       "max    6600.000000   49.000000   54.000000  45400.000000  "
      ]
     },
     "execution_count": 24,
     "metadata": {},
     "output_type": "execute_result"
    }
   ],
   "source": [
    "nvars.describe()"
   ]
  },
  {
   "cell_type": "code",
   "execution_count": null,
   "metadata": {},
   "outputs": [],
   "source": [
    "################################################### phase 3- Data Preparation:\n",
    "\n",
    "There is a variable named CarName which is comprised of two parts - the first word is the name of 'car company' \n",
    "and the second is the 'car model'. For example, chevrolet impala has 'chevrolet' as the car company name and 'impala' \n",
    "as the car model name.You should consider only company name as the independent variable for model building."
   ]
  },
  {
   "cell_type": "code",
   "execution_count": 9,
   "metadata": {},
   "outputs": [],
   "source": [
    "#Splitting the CarName COlumn\n",
    "\n",
    "df.CarName=df.CarName.apply(lambda x:x.split(\" \")[0])"
   ]
  },
  {
   "cell_type": "code",
   "execution_count": 10,
   "metadata": {
    "collapsed": true
   },
   "outputs": [
    {
     "data": {
      "text/html": [
       "<div>\n",
       "<style scoped>\n",
       "    .dataframe tbody tr th:only-of-type {\n",
       "        vertical-align: middle;\n",
       "    }\n",
       "\n",
       "    .dataframe tbody tr th {\n",
       "        vertical-align: top;\n",
       "    }\n",
       "\n",
       "    .dataframe thead th {\n",
       "        text-align: right;\n",
       "    }\n",
       "</style>\n",
       "<table border=\"1\" class=\"dataframe\">\n",
       "  <thead>\n",
       "    <tr style=\"text-align: right;\">\n",
       "      <th></th>\n",
       "      <th>car_ID</th>\n",
       "      <th>symboling</th>\n",
       "      <th>CarName</th>\n",
       "      <th>fueltype</th>\n",
       "      <th>aspiration</th>\n",
       "      <th>doornumber</th>\n",
       "      <th>carbody</th>\n",
       "      <th>drivewheel</th>\n",
       "      <th>enginelocation</th>\n",
       "      <th>wheelbase</th>\n",
       "      <th>...</th>\n",
       "      <th>enginesize</th>\n",
       "      <th>fuelsystem</th>\n",
       "      <th>boreratio</th>\n",
       "      <th>stroke</th>\n",
       "      <th>compressionratio</th>\n",
       "      <th>horsepower</th>\n",
       "      <th>peakrpm</th>\n",
       "      <th>citympg</th>\n",
       "      <th>highwaympg</th>\n",
       "      <th>price</th>\n",
       "    </tr>\n",
       "  </thead>\n",
       "  <tbody>\n",
       "    <tr>\n",
       "      <th>0</th>\n",
       "      <td>1</td>\n",
       "      <td>3</td>\n",
       "      <td>alfa-romero</td>\n",
       "      <td>gas</td>\n",
       "      <td>std</td>\n",
       "      <td>two</td>\n",
       "      <td>convertible</td>\n",
       "      <td>rwd</td>\n",
       "      <td>front</td>\n",
       "      <td>88.6</td>\n",
       "      <td>...</td>\n",
       "      <td>130</td>\n",
       "      <td>mpfi</td>\n",
       "      <td>3.47</td>\n",
       "      <td>2.68</td>\n",
       "      <td>9.0</td>\n",
       "      <td>111</td>\n",
       "      <td>5000</td>\n",
       "      <td>21</td>\n",
       "      <td>27</td>\n",
       "      <td>13495.0</td>\n",
       "    </tr>\n",
       "    <tr>\n",
       "      <th>1</th>\n",
       "      <td>2</td>\n",
       "      <td>3</td>\n",
       "      <td>alfa-romero</td>\n",
       "      <td>gas</td>\n",
       "      <td>std</td>\n",
       "      <td>two</td>\n",
       "      <td>convertible</td>\n",
       "      <td>rwd</td>\n",
       "      <td>front</td>\n",
       "      <td>88.6</td>\n",
       "      <td>...</td>\n",
       "      <td>130</td>\n",
       "      <td>mpfi</td>\n",
       "      <td>3.47</td>\n",
       "      <td>2.68</td>\n",
       "      <td>9.0</td>\n",
       "      <td>111</td>\n",
       "      <td>5000</td>\n",
       "      <td>21</td>\n",
       "      <td>27</td>\n",
       "      <td>16500.0</td>\n",
       "    </tr>\n",
       "    <tr>\n",
       "      <th>2</th>\n",
       "      <td>3</td>\n",
       "      <td>1</td>\n",
       "      <td>alfa-romero</td>\n",
       "      <td>gas</td>\n",
       "      <td>std</td>\n",
       "      <td>two</td>\n",
       "      <td>hatchback</td>\n",
       "      <td>rwd</td>\n",
       "      <td>front</td>\n",
       "      <td>94.5</td>\n",
       "      <td>...</td>\n",
       "      <td>152</td>\n",
       "      <td>mpfi</td>\n",
       "      <td>2.68</td>\n",
       "      <td>3.47</td>\n",
       "      <td>9.0</td>\n",
       "      <td>154</td>\n",
       "      <td>5000</td>\n",
       "      <td>19</td>\n",
       "      <td>26</td>\n",
       "      <td>16500.0</td>\n",
       "    </tr>\n",
       "    <tr>\n",
       "      <th>3</th>\n",
       "      <td>4</td>\n",
       "      <td>2</td>\n",
       "      <td>audi</td>\n",
       "      <td>gas</td>\n",
       "      <td>std</td>\n",
       "      <td>four</td>\n",
       "      <td>sedan</td>\n",
       "      <td>fwd</td>\n",
       "      <td>front</td>\n",
       "      <td>99.8</td>\n",
       "      <td>...</td>\n",
       "      <td>109</td>\n",
       "      <td>mpfi</td>\n",
       "      <td>3.19</td>\n",
       "      <td>3.40</td>\n",
       "      <td>10.0</td>\n",
       "      <td>102</td>\n",
       "      <td>5500</td>\n",
       "      <td>24</td>\n",
       "      <td>30</td>\n",
       "      <td>13950.0</td>\n",
       "    </tr>\n",
       "    <tr>\n",
       "      <th>4</th>\n",
       "      <td>5</td>\n",
       "      <td>2</td>\n",
       "      <td>audi</td>\n",
       "      <td>gas</td>\n",
       "      <td>std</td>\n",
       "      <td>four</td>\n",
       "      <td>sedan</td>\n",
       "      <td>4wd</td>\n",
       "      <td>front</td>\n",
       "      <td>99.4</td>\n",
       "      <td>...</td>\n",
       "      <td>136</td>\n",
       "      <td>mpfi</td>\n",
       "      <td>3.19</td>\n",
       "      <td>3.40</td>\n",
       "      <td>8.0</td>\n",
       "      <td>115</td>\n",
       "      <td>5500</td>\n",
       "      <td>18</td>\n",
       "      <td>22</td>\n",
       "      <td>17450.0</td>\n",
       "    </tr>\n",
       "  </tbody>\n",
       "</table>\n",
       "<p>5 rows × 26 columns</p>\n",
       "</div>"
      ],
      "text/plain": [
       "   car_ID  symboling      CarName fueltype aspiration doornumber      carbody  \\\n",
       "0       1          3  alfa-romero      gas        std        two  convertible   \n",
       "1       2          3  alfa-romero      gas        std        two  convertible   \n",
       "2       3          1  alfa-romero      gas        std        two    hatchback   \n",
       "3       4          2         audi      gas        std       four        sedan   \n",
       "4       5          2         audi      gas        std       four        sedan   \n",
       "\n",
       "  drivewheel enginelocation  wheelbase  ...  enginesize  fuelsystem  \\\n",
       "0        rwd          front       88.6  ...         130        mpfi   \n",
       "1        rwd          front       88.6  ...         130        mpfi   \n",
       "2        rwd          front       94.5  ...         152        mpfi   \n",
       "3        fwd          front       99.8  ...         109        mpfi   \n",
       "4        4wd          front       99.4  ...         136        mpfi   \n",
       "\n",
       "   boreratio  stroke compressionratio horsepower  peakrpm citympg  highwaympg  \\\n",
       "0       3.47    2.68              9.0        111     5000      21          27   \n",
       "1       3.47    2.68              9.0        111     5000      21          27   \n",
       "2       2.68    3.47              9.0        154     5000      19          26   \n",
       "3       3.19    3.40             10.0        102     5500      24          30   \n",
       "4       3.19    3.40              8.0        115     5500      18          22   \n",
       "\n",
       "     price  \n",
       "0  13495.0  \n",
       "1  16500.0  \n",
       "2  16500.0  \n",
       "3  13950.0  \n",
       "4  17450.0  \n",
       "\n",
       "[5 rows x 26 columns]"
      ]
     },
     "execution_count": 10,
     "metadata": {},
     "output_type": "execute_result"
    }
   ],
   "source": [
    "df.head()"
   ]
  },
  {
   "cell_type": "code",
   "execution_count": 11,
   "metadata": {},
   "outputs": [],
   "source": [
    "#We have seen that few of the CarName are misspelled, so correcting them:\n",
    "\n",
    "df.CarName.replace({\"maxda\":\"mazda\",\"vokswagen\":\"volkswagen\",\"vw\":\"volkswagen\",\"Nissan\":\"nissan\",\"porcshce\":\"porsche\",\"toyouta\":\"toyota\"},inplace=True)"
   ]
  },
  {
   "cell_type": "code",
   "execution_count": 13,
   "metadata": {
    "collapsed": true
   },
   "outputs": [
    {
     "data": {
      "text/plain": [
       "four    115\n",
       "two      90\n",
       "Name: doornumber, dtype: int64"
      ]
     },
     "execution_count": 13,
     "metadata": {},
     "output_type": "execute_result"
    }
   ],
   "source": [
    "############ converting text ordinal variables to numerical ordinal:\n",
    "\n",
    "df.doornumber.value_counts()"
   ]
  },
  {
   "cell_type": "code",
   "execution_count": 14,
   "metadata": {},
   "outputs": [],
   "source": [
    "#mapping the door number from object to numerical\n",
    "df.doornumber=df.doornumber.replace({\"two\":2,\"four\":4}).astype(np.int64)"
   ]
  },
  {
   "cell_type": "code",
   "execution_count": 15,
   "metadata": {
    "collapsed": true
   },
   "outputs": [
    {
     "data": {
      "text/plain": [
       "array(['four', 'six', 'five', 'three', 'twelve', 'two', 'eight'],\n",
       "      dtype=object)"
      ]
     },
     "execution_count": 15,
     "metadata": {},
     "output_type": "execute_result"
    }
   ],
   "source": [
    "#Checking the cylindernumber columns:\n",
    "\n",
    "df.cylindernumber.unique()"
   ]
  },
  {
   "cell_type": "code",
   "execution_count": 18,
   "metadata": {},
   "outputs": [],
   "source": [
    "#mapping the object columns to numericals\n",
    "df.cylindernumber=df.cylindernumber.map({\"four\":4,\"six\":6,\"five\":5,\"three\":3,\"twelve\":12,\"two\":2,\"eight\":8}).astype(np.int64)"
   ]
  },
  {
   "cell_type": "code",
   "execution_count": null,
   "metadata": {},
   "outputs": [],
   "source": [
    "#####################################################################"
   ]
  },
  {
   "cell_type": "code",
   "execution_count": 26,
   "metadata": {},
   "outputs": [],
   "source": [
    "#handling categorical var- one hot encoding- qualitative to quant var creation-- GETTING DUMMIES\n",
    "dummy_vars=[\"fueltype\",\"aspiration\",\"carbody\",\"drivewheel\",\"enginelocation\",\"enginetype\",\"fuelsystem\"]\n",
    "dummies=pd.get_dummies(data=df[dummy_vars],drop_first=True)"
   ]
  },
  {
   "cell_type": "code",
   "execution_count": null,
   "metadata": {},
   "outputs": [],
   "source": [
    "### you need to remove lowest category not the first ..."
   ]
  },
  {
   "cell_type": "code",
   "execution_count": 27,
   "metadata": {},
   "outputs": [],
   "source": [
    "#final_df=pd.concat([df,dummies],axis=1)Lets see how data looks now:\n",
    "\n",
    "final_df=pd.concat([df,dummies],axis=1)   \n"
   ]
  },
  {
   "cell_type": "code",
   "execution_count": 29,
   "metadata": {},
   "outputs": [
    {
     "data": {
      "text/plain": [
       "(Index(['car_ID', 'symboling', 'CarName', 'fueltype', 'aspiration',\n",
       "        'doornumber', 'carbody', 'drivewheel', 'enginelocation', 'wheelbase',\n",
       "        'carlength', 'carwidth', 'carheight', 'curbweight', 'enginetype',\n",
       "        'cylindernumber', 'enginesize', 'fuelsystem', 'boreratio', 'stroke',\n",
       "        'compressionratio', 'horsepower', 'peakrpm', 'citympg', 'highwaympg',\n",
       "        'price', 'fueltype_gas', 'aspiration_turbo', 'carbody_hardtop',\n",
       "        'carbody_hatchback', 'carbody_sedan', 'carbody_wagon', 'drivewheel_fwd',\n",
       "        'drivewheel_rwd', 'enginelocation_rear', 'enginetype_dohcv',\n",
       "        'enginetype_l', 'enginetype_ohc', 'enginetype_ohcf', 'enginetype_ohcv',\n",
       "        'enginetype_rotor', 'fuelsystem_2bbl', 'fuelsystem_4bbl',\n",
       "        'fuelsystem_idi', 'fuelsystem_mfi', 'fuelsystem_mpfi',\n",
       "        'fuelsystem_spdi', 'fuelsystem_spfi'],\n",
       "       dtype='object'),\n",
       " (205, 26))"
      ]
     },
     "execution_count": 29,
     "metadata": {},
     "output_type": "execute_result"
    }
   ],
   "source": [
    "final_df.columns,df.shape"
   ]
  },
  {
   "cell_type": "code",
   "execution_count": 43,
   "metadata": {},
   "outputs": [],
   "source": [
    "##################### phase 4- Feature reduction/variable selection:\n",
    "\n",
    "# Remove columns that are of no use to us:\n",
    "\n",
    "final_df.drop(labels=[\"car_ID\",\"CarName\",\"fueltype\",\"aspiration\",\"carbody\",\"drivewheel\",\"enginelocation\",\n",
    "                \"enginetype\",\"fuelsystem\"],axis=1,inplace=True)"
   ]
  },
  {
   "cell_type": "code",
   "execution_count": 44,
   "metadata": {},
   "outputs": [
    {
     "data": {
      "text/plain": [
       "(205, 39)"
      ]
     },
     "execution_count": 44,
     "metadata": {},
     "output_type": "execute_result"
    }
   ],
   "source": [
    "final_df.shape"
   ]
  },
  {
   "cell_type": "code",
   "execution_count": 46,
   "metadata": {},
   "outputs": [
    {
     "name": "stdout",
     "output_type": "stream",
     "text": [
      "symboling              1.550789e+00\n",
      "doornumber             9.899570e-01\n",
      "wheelbase              3.626178e+01\n",
      "carlength              1.522087e+02\n",
      "carwidth               4.601900e+00\n",
      "carheight              5.970800e+00\n",
      "curbweight             2.711079e+05\n",
      "cylindernumber         1.168245e+00\n",
      "enginesize             1.734114e+03\n",
      "boreratio              7.335631e-02\n",
      "stroke                 9.834309e-02\n",
      "compressionratio       1.577710e+01\n",
      "horsepower             1.563741e+03\n",
      "peakrpm                2.275153e+05\n",
      "citympg                4.279962e+01\n",
      "highwaympg             4.742310e+01\n",
      "price                  6.382176e+07\n",
      "fueltype_gas           8.847441e-02\n",
      "aspiration_turbo       1.486370e-01\n",
      "carbody_hardtop        3.768532e-02\n",
      "carbody_hatchback      2.259684e-01\n",
      "carbody_sedan          2.502152e-01\n",
      "carbody_wagon          1.076040e-01\n",
      "drivewheel_fwd         2.439024e-01\n",
      "drivewheel_rwd         2.344333e-01\n",
      "enginelocation_rear    1.449067e-02\n",
      "enginetype_dohcv       4.878049e-03\n",
      "enginetype_l           5.538020e-02\n",
      "enginetype_ohc         2.017217e-01\n",
      "enginetype_ohcf        6.814921e-02\n",
      "enginetype_ohcv        5.968436e-02\n",
      "enginetype_rotor       1.922525e-02\n",
      "fuelsystem_2bbl        2.193687e-01\n",
      "fuelsystem_4bbl        1.449067e-02\n",
      "fuelsystem_idi         8.847441e-02\n",
      "fuelsystem_mfi         4.878049e-03\n",
      "fuelsystem_mpfi        2.494978e-01\n",
      "fuelsystem_spdi        4.218077e-02\n",
      "fuelsystem_spfi        4.878049e-03\n",
      "dtype: float64\n"
     ]
    },
    {
     "data": {
      "text/plain": [
       "'C:\\\\Users\\\\dh207150'"
      ]
     },
     "execution_count": 46,
     "metadata": {},
     "output_type": "execute_result"
    }
   ],
   "source": [
    "# near zero var\n",
    "\n",
    "df1=final_df.var()\n",
    "print(df1)\n",
    "\n",
    "df1.to_csv(\"var_car_df_new.csv\")\n",
    "\n",
    "import os\n",
    "os.getcwd()"
   ]
  },
  {
   "cell_type": "code",
   "execution_count": 47,
   "metadata": {},
   "outputs": [
    {
     "data": {
      "text/plain": [
       "(205, 24)"
      ]
     },
     "execution_count": 47,
     "metadata": {},
     "output_type": "execute_result"
    }
   ],
   "source": [
    "# remove low var variables\n",
    "\n",
    "\n",
    "final_df.drop(['stroke',\n",
    "'fueltype_gas',\n",
    "'fuelsystem_idi',\n",
    "'boreratio',\n",
    "'enginetype_ohcf',\n",
    "'enginetype_ohcv',\n",
    "'enginetype_l',\n",
    "'fuelsystem_spdi',\n",
    "'carbody_hardtop',\n",
    "'enginetype_rotor',\n",
    "'enginelocation_rear',\n",
    "'fuelsystem_4bbl',\n",
    "'enginetype_dohcv',\n",
    "'fuelsystem_mfi',\n",
    "'fuelsystem_spfi'],axis=1,inplace=True)\n",
    "\n",
    "final_df.shape"
   ]
  },
  {
   "cell_type": "code",
   "execution_count": null,
   "metadata": {},
   "outputs": [],
   "source": [
    "# correlation"
   ]
  },
  {
   "cell_type": "code",
   "execution_count": 50,
   "metadata": {},
   "outputs": [],
   "source": [
    "corr_car=final_df.corr()"
   ]
  },
  {
   "cell_type": "code",
   "execution_count": 52,
   "metadata": {},
   "outputs": [],
   "source": [
    "corr_car.to_csv(\"corr_car_df.csv\")"
   ]
  },
  {
   "cell_type": "code",
   "execution_count": 57,
   "metadata": {
    "collapsed": true
   },
   "outputs": [
    {
     "ename": "KeyError",
     "evalue": "\"['carwidth' 'curbweight' 'horsepower' 'highwaympg'] not found in axis\"",
     "output_type": "error",
     "traceback": [
      "\u001b[1;31m---------------------------------------------------------------------------\u001b[0m",
      "\u001b[1;31mKeyError\u001b[0m                                  Traceback (most recent call last)",
      "\u001b[1;32m<ipython-input-57-2d498ab0d3e6>\u001b[0m in \u001b[0;36m<module>\u001b[1;34m\u001b[0m\n\u001b[1;32m----> 1\u001b[1;33m final_df_after_cor=final_df.drop(['carwidth',\n\u001b[0m\u001b[0;32m      2\u001b[0m \u001b[1;34m'curbweight'\u001b[0m\u001b[1;33m,\u001b[0m\u001b[1;33m\u001b[0m\u001b[1;33m\u001b[0m\u001b[0m\n\u001b[0;32m      3\u001b[0m \u001b[1;34m'horsepower'\u001b[0m\u001b[1;33m,\u001b[0m\u001b[1;33m\u001b[0m\u001b[1;33m\u001b[0m\u001b[0m\n\u001b[0;32m      4\u001b[0m 'highwaympg'],axis=1,inplace=True)\n",
      "\u001b[1;32m~\\Anaconda3\\lib\\site-packages\\pandas\\core\\frame.py\u001b[0m in \u001b[0;36mdrop\u001b[1;34m(self, labels, axis, index, columns, level, inplace, errors)\u001b[0m\n\u001b[0;32m   3988\u001b[0m                 \u001b[0mweight\u001b[0m  \u001b[1;36m1.0\u001b[0m     \u001b[1;36m0.8\u001b[0m\u001b[1;33m\u001b[0m\u001b[1;33m\u001b[0m\u001b[0m\n\u001b[0;32m   3989\u001b[0m         \"\"\"\n\u001b[1;32m-> 3990\u001b[1;33m         return super().drop(\n\u001b[0m\u001b[0;32m   3991\u001b[0m             \u001b[0mlabels\u001b[0m\u001b[1;33m=\u001b[0m\u001b[0mlabels\u001b[0m\u001b[1;33m,\u001b[0m\u001b[1;33m\u001b[0m\u001b[1;33m\u001b[0m\u001b[0m\n\u001b[0;32m   3992\u001b[0m             \u001b[0maxis\u001b[0m\u001b[1;33m=\u001b[0m\u001b[0maxis\u001b[0m\u001b[1;33m,\u001b[0m\u001b[1;33m\u001b[0m\u001b[1;33m\u001b[0m\u001b[0m\n",
      "\u001b[1;32m~\\Anaconda3\\lib\\site-packages\\pandas\\core\\generic.py\u001b[0m in \u001b[0;36mdrop\u001b[1;34m(self, labels, axis, index, columns, level, inplace, errors)\u001b[0m\n\u001b[0;32m   3934\u001b[0m         \u001b[1;32mfor\u001b[0m \u001b[0maxis\u001b[0m\u001b[1;33m,\u001b[0m \u001b[0mlabels\u001b[0m \u001b[1;32min\u001b[0m \u001b[0maxes\u001b[0m\u001b[1;33m.\u001b[0m\u001b[0mitems\u001b[0m\u001b[1;33m(\u001b[0m\u001b[1;33m)\u001b[0m\u001b[1;33m:\u001b[0m\u001b[1;33m\u001b[0m\u001b[1;33m\u001b[0m\u001b[0m\n\u001b[0;32m   3935\u001b[0m             \u001b[1;32mif\u001b[0m \u001b[0mlabels\u001b[0m \u001b[1;32mis\u001b[0m \u001b[1;32mnot\u001b[0m \u001b[1;32mNone\u001b[0m\u001b[1;33m:\u001b[0m\u001b[1;33m\u001b[0m\u001b[1;33m\u001b[0m\u001b[0m\n\u001b[1;32m-> 3936\u001b[1;33m                 \u001b[0mobj\u001b[0m \u001b[1;33m=\u001b[0m \u001b[0mobj\u001b[0m\u001b[1;33m.\u001b[0m\u001b[0m_drop_axis\u001b[0m\u001b[1;33m(\u001b[0m\u001b[0mlabels\u001b[0m\u001b[1;33m,\u001b[0m \u001b[0maxis\u001b[0m\u001b[1;33m,\u001b[0m \u001b[0mlevel\u001b[0m\u001b[1;33m=\u001b[0m\u001b[0mlevel\u001b[0m\u001b[1;33m,\u001b[0m \u001b[0merrors\u001b[0m\u001b[1;33m=\u001b[0m\u001b[0merrors\u001b[0m\u001b[1;33m)\u001b[0m\u001b[1;33m\u001b[0m\u001b[1;33m\u001b[0m\u001b[0m\n\u001b[0m\u001b[0;32m   3937\u001b[0m \u001b[1;33m\u001b[0m\u001b[0m\n\u001b[0;32m   3938\u001b[0m         \u001b[1;32mif\u001b[0m \u001b[0minplace\u001b[0m\u001b[1;33m:\u001b[0m\u001b[1;33m\u001b[0m\u001b[1;33m\u001b[0m\u001b[0m\n",
      "\u001b[1;32m~\\Anaconda3\\lib\\site-packages\\pandas\\core\\generic.py\u001b[0m in \u001b[0;36m_drop_axis\u001b[1;34m(self, labels, axis, level, errors)\u001b[0m\n\u001b[0;32m   3968\u001b[0m                 \u001b[0mnew_axis\u001b[0m \u001b[1;33m=\u001b[0m \u001b[0maxis\u001b[0m\u001b[1;33m.\u001b[0m\u001b[0mdrop\u001b[0m\u001b[1;33m(\u001b[0m\u001b[0mlabels\u001b[0m\u001b[1;33m,\u001b[0m \u001b[0mlevel\u001b[0m\u001b[1;33m=\u001b[0m\u001b[0mlevel\u001b[0m\u001b[1;33m,\u001b[0m \u001b[0merrors\u001b[0m\u001b[1;33m=\u001b[0m\u001b[0merrors\u001b[0m\u001b[1;33m)\u001b[0m\u001b[1;33m\u001b[0m\u001b[1;33m\u001b[0m\u001b[0m\n\u001b[0;32m   3969\u001b[0m             \u001b[1;32melse\u001b[0m\u001b[1;33m:\u001b[0m\u001b[1;33m\u001b[0m\u001b[1;33m\u001b[0m\u001b[0m\n\u001b[1;32m-> 3970\u001b[1;33m                 \u001b[0mnew_axis\u001b[0m \u001b[1;33m=\u001b[0m \u001b[0maxis\u001b[0m\u001b[1;33m.\u001b[0m\u001b[0mdrop\u001b[0m\u001b[1;33m(\u001b[0m\u001b[0mlabels\u001b[0m\u001b[1;33m,\u001b[0m \u001b[0merrors\u001b[0m\u001b[1;33m=\u001b[0m\u001b[0merrors\u001b[0m\u001b[1;33m)\u001b[0m\u001b[1;33m\u001b[0m\u001b[1;33m\u001b[0m\u001b[0m\n\u001b[0m\u001b[0;32m   3971\u001b[0m             \u001b[0mresult\u001b[0m \u001b[1;33m=\u001b[0m \u001b[0mself\u001b[0m\u001b[1;33m.\u001b[0m\u001b[0mreindex\u001b[0m\u001b[1;33m(\u001b[0m\u001b[1;33m**\u001b[0m\u001b[1;33m{\u001b[0m\u001b[0maxis_name\u001b[0m\u001b[1;33m:\u001b[0m \u001b[0mnew_axis\u001b[0m\u001b[1;33m}\u001b[0m\u001b[1;33m)\u001b[0m\u001b[1;33m\u001b[0m\u001b[1;33m\u001b[0m\u001b[0m\n\u001b[0;32m   3972\u001b[0m \u001b[1;33m\u001b[0m\u001b[0m\n",
      "\u001b[1;32m~\\Anaconda3\\lib\\site-packages\\pandas\\core\\indexes\\base.py\u001b[0m in \u001b[0;36mdrop\u001b[1;34m(self, labels, errors)\u001b[0m\n\u001b[0;32m   5016\u001b[0m         \u001b[1;32mif\u001b[0m \u001b[0mmask\u001b[0m\u001b[1;33m.\u001b[0m\u001b[0many\u001b[0m\u001b[1;33m(\u001b[0m\u001b[1;33m)\u001b[0m\u001b[1;33m:\u001b[0m\u001b[1;33m\u001b[0m\u001b[1;33m\u001b[0m\u001b[0m\n\u001b[0;32m   5017\u001b[0m             \u001b[1;32mif\u001b[0m \u001b[0merrors\u001b[0m \u001b[1;33m!=\u001b[0m \u001b[1;34m\"ignore\"\u001b[0m\u001b[1;33m:\u001b[0m\u001b[1;33m\u001b[0m\u001b[1;33m\u001b[0m\u001b[0m\n\u001b[1;32m-> 5018\u001b[1;33m                 \u001b[1;32mraise\u001b[0m \u001b[0mKeyError\u001b[0m\u001b[1;33m(\u001b[0m\u001b[1;34mf\"{labels[mask]} not found in axis\"\u001b[0m\u001b[1;33m)\u001b[0m\u001b[1;33m\u001b[0m\u001b[1;33m\u001b[0m\u001b[0m\n\u001b[0m\u001b[0;32m   5019\u001b[0m             \u001b[0mindexer\u001b[0m \u001b[1;33m=\u001b[0m \u001b[0mindexer\u001b[0m\u001b[1;33m[\u001b[0m\u001b[1;33m~\u001b[0m\u001b[0mmask\u001b[0m\u001b[1;33m]\u001b[0m\u001b[1;33m\u001b[0m\u001b[1;33m\u001b[0m\u001b[0m\n\u001b[0;32m   5020\u001b[0m         \u001b[1;32mreturn\u001b[0m \u001b[0mself\u001b[0m\u001b[1;33m.\u001b[0m\u001b[0mdelete\u001b[0m\u001b[1;33m(\u001b[0m\u001b[0mindexer\u001b[0m\u001b[1;33m)\u001b[0m\u001b[1;33m\u001b[0m\u001b[1;33m\u001b[0m\u001b[0m\n",
      "\u001b[1;31mKeyError\u001b[0m: \"['carwidth' 'curbweight' 'horsepower' 'highwaympg'] not found in axis\""
     ]
    }
   ],
   "source": [
    "final_df.drop(['carwidth',\n",
    "'curbweight',\n",
    "'horsepower',\n",
    "'highwaympg'],axis=1,inplace=True)"
   ]
  },
  {
   "cell_type": "code",
   "execution_count": 59,
   "metadata": {},
   "outputs": [
    {
     "data": {
      "text/plain": [
       "(205, 20)"
      ]
     },
     "execution_count": 59,
     "metadata": {},
     "output_type": "execute_result"
    }
   ],
   "source": [
    "final_df.shape"
   ]
  },
  {
   "cell_type": "code",
   "execution_count": 64,
   "metadata": {},
   "outputs": [],
   "source": [
    "corr_car_2=final_df.corr()"
   ]
  },
  {
   "cell_type": "code",
   "execution_count": 65,
   "metadata": {},
   "outputs": [],
   "source": [
    "corr_car_2.to_csv(\"corr_car_df_2.csv\")"
   ]
  },
  {
   "cell_type": "code",
   "execution_count": 66,
   "metadata": {},
   "outputs": [],
   "source": [
    "final_df.drop(['carlength',\n",
    "'enginesize',\n",
    "'doornumber',\n",
    "'fuelsystem_mpfi',\n",
    "'carbody_sedan',\n",
    "'drivewheel_rwd'],axis=1,inplace=True)"
   ]
  },
  {
   "cell_type": "code",
   "execution_count": 70,
   "metadata": {},
   "outputs": [
    {
     "data": {
      "text/plain": [
       "(205, 14)"
      ]
     },
     "execution_count": 70,
     "metadata": {},
     "output_type": "execute_result"
    }
   ],
   "source": [
    "final_df.shape"
   ]
  },
  {
   "cell_type": "code",
   "execution_count": null,
   "metadata": {},
   "outputs": [],
   "source": [
    "####################################### we are done with feature selection ####################"
   ]
  },
  {
   "cell_type": "code",
   "execution_count": null,
   "metadata": {},
   "outputs": [],
   "source": [
    "#Train_test_split"
   ]
  },
  {
   "cell_type": "code",
   "execution_count": 72,
   "metadata": {},
   "outputs": [],
   "source": [
    "#SPLITTING THE DATASET\n",
    "\n",
    "#importing sklearn libraries \n",
    "from sklearn.model_selection import train_test_split\n",
    "from sklearn.preprocessing import MinMaxScaler\n",
    "from sklearn.feature_selection import RFE\n",
    "from sklearn.linear_model import LinearRegression\n",
    "from sklearn.metrics import r2_score\n",
    "\n",
    "#importing statsmodel api module\n",
    "import statsmodels.api as sm\n",
    "\n",
    "\n"
   ]
  },
  {
   "cell_type": "code",
   "execution_count": 83,
   "metadata": {},
   "outputs": [],
   "source": [
    "df_train,df_test=train_test_split(final_df,test_size=0.3,random_state=42)"
   ]
  },
  {
   "cell_type": "code",
   "execution_count": 84,
   "metadata": {},
   "outputs": [],
   "source": [
    "# scaling the data\n",
    "scale=MinMaxScaler()"
   ]
  },
  {
   "cell_type": "code",
   "execution_count": 85,
   "metadata": {},
   "outputs": [
    {
     "data": {
      "text/plain": [
       "Index(['symboling', 'wheelbase', 'carheight', 'cylindernumber',\n",
       "       'compressionratio', 'peakrpm', 'citympg', 'price', 'aspiration_turbo',\n",
       "       'carbody_hatchback', 'carbody_wagon', 'drivewheel_fwd',\n",
       "       'enginetype_ohc', 'fuelsystem_2bbl'],\n",
       "      dtype='object')"
      ]
     },
     "execution_count": 85,
     "metadata": {},
     "output_type": "execute_result"
    }
   ],
   "source": [
    "df_train.columns"
   ]
  },
  {
   "cell_type": "code",
   "execution_count": 86,
   "metadata": {},
   "outputs": [],
   "source": [
    "cols=['symboling', 'wheelbase', 'carheight', 'cylindernumber',\n",
    "       'compressionratio', 'peakrpm', 'citympg', 'price', 'aspiration_turbo',\n",
    "       'carbody_hatchback', 'carbody_wagon', 'drivewheel_fwd',\n",
    "       'enginetype_ohc', 'fuelsystem_2bbl']"
   ]
  },
  {
   "cell_type": "code",
   "execution_count": 87,
   "metadata": {
    "collapsed": true
   },
   "outputs": [
    {
     "name": "stderr",
     "output_type": "stream",
     "text": [
      "<ipython-input-87-6f3ef73130e5>:1: SettingWithCopyWarning: \n",
      "A value is trying to be set on a copy of a slice from a DataFrame.\n",
      "Try using .loc[row_indexer,col_indexer] = value instead\n",
      "\n",
      "See the caveats in the documentation: https://pandas.pydata.org/pandas-docs/stable/user_guide/indexing.html#returning-a-view-versus-a-copy\n",
      "  df_train[cols]=scale.fit_transform(df_train[cols])\n",
      "C:\\Users\\dh207150\\Anaconda3\\lib\\site-packages\\pandas\\core\\indexing.py:966: SettingWithCopyWarning: \n",
      "A value is trying to be set on a copy of a slice from a DataFrame.\n",
      "Try using .loc[row_indexer,col_indexer] = value instead\n",
      "\n",
      "See the caveats in the documentation: https://pandas.pydata.org/pandas-docs/stable/user_guide/indexing.html#returning-a-view-versus-a-copy\n",
      "  self.obj[item] = s\n"
     ]
    }
   ],
   "source": [
    "df_train[cols]=scale.fit_transform(df_train[cols])"
   ]
  },
  {
   "cell_type": "code",
   "execution_count": 90,
   "metadata": {},
   "outputs": [
    {
     "data": {
      "text/html": [
       "<div>\n",
       "<style scoped>\n",
       "    .dataframe tbody tr th:only-of-type {\n",
       "        vertical-align: middle;\n",
       "    }\n",
       "\n",
       "    .dataframe tbody tr th {\n",
       "        vertical-align: top;\n",
       "    }\n",
       "\n",
       "    .dataframe thead th {\n",
       "        text-align: right;\n",
       "    }\n",
       "</style>\n",
       "<table border=\"1\" class=\"dataframe\">\n",
       "  <thead>\n",
       "    <tr style=\"text-align: right;\">\n",
       "      <th></th>\n",
       "      <th>symboling</th>\n",
       "      <th>wheelbase</th>\n",
       "      <th>carheight</th>\n",
       "      <th>cylindernumber</th>\n",
       "      <th>compressionratio</th>\n",
       "      <th>peakrpm</th>\n",
       "      <th>citympg</th>\n",
       "      <th>price</th>\n",
       "      <th>aspiration_turbo</th>\n",
       "      <th>carbody_hatchback</th>\n",
       "      <th>carbody_wagon</th>\n",
       "      <th>drivewheel_fwd</th>\n",
       "      <th>enginetype_ohc</th>\n",
       "      <th>fuelsystem_2bbl</th>\n",
       "    </tr>\n",
       "  </thead>\n",
       "  <tbody>\n",
       "    <tr>\n",
       "      <th>177</th>\n",
       "      <td>0.2</td>\n",
       "      <td>0.544828</td>\n",
       "      <td>0.508333</td>\n",
       "      <td>0.2</td>\n",
       "      <td>0.10625</td>\n",
       "      <td>0.020408</td>\n",
       "      <td>0.56</td>\n",
       "      <td>0.152177</td>\n",
       "      <td>0.0</td>\n",
       "      <td>1.0</td>\n",
       "      <td>0.0</td>\n",
       "      <td>1.0</td>\n",
       "      <td>1.0</td>\n",
       "      <td>0.0</td>\n",
       "    </tr>\n",
       "    <tr>\n",
       "      <th>75</th>\n",
       "      <td>0.6</td>\n",
       "      <td>0.555172</td>\n",
       "      <td>0.583333</td>\n",
       "      <td>0.2</td>\n",
       "      <td>0.06250</td>\n",
       "      <td>0.346939</td>\n",
       "      <td>0.24</td>\n",
       "      <td>0.282632</td>\n",
       "      <td>1.0</td>\n",
       "      <td>1.0</td>\n",
       "      <td>0.0</td>\n",
       "      <td>0.0</td>\n",
       "      <td>1.0</td>\n",
       "      <td>0.0</td>\n",
       "    </tr>\n",
       "    <tr>\n",
       "      <th>174</th>\n",
       "      <td>0.2</td>\n",
       "      <td>0.544828</td>\n",
       "      <td>0.591667</td>\n",
       "      <td>0.2</td>\n",
       "      <td>0.96875</td>\n",
       "      <td>0.142857</td>\n",
       "      <td>0.68</td>\n",
       "      <td>0.138523</td>\n",
       "      <td>1.0</td>\n",
       "      <td>0.0</td>\n",
       "      <td>0.0</td>\n",
       "      <td>1.0</td>\n",
       "      <td>1.0</td>\n",
       "      <td>0.0</td>\n",
       "    </tr>\n",
       "    <tr>\n",
       "      <th>31</th>\n",
       "      <td>0.8</td>\n",
       "      <td>0.000000</td>\n",
       "      <td>0.250000</td>\n",
       "      <td>0.2</td>\n",
       "      <td>0.13750</td>\n",
       "      <td>0.755102</td>\n",
       "      <td>0.72</td>\n",
       "      <td>0.043121</td>\n",
       "      <td>0.0</td>\n",
       "      <td>1.0</td>\n",
       "      <td>0.0</td>\n",
       "      <td>1.0</td>\n",
       "      <td>1.0</td>\n",
       "      <td>0.0</td>\n",
       "    </tr>\n",
       "    <tr>\n",
       "      <th>12</th>\n",
       "      <td>0.4</td>\n",
       "      <td>0.503448</td>\n",
       "      <td>0.541667</td>\n",
       "      <td>0.4</td>\n",
       "      <td>0.12500</td>\n",
       "      <td>0.040816</td>\n",
       "      <td>0.32</td>\n",
       "      <td>0.393526</td>\n",
       "      <td>0.0</td>\n",
       "      <td>0.0</td>\n",
       "      <td>0.0</td>\n",
       "      <td>0.0</td>\n",
       "      <td>1.0</td>\n",
       "      <td>0.0</td>\n",
       "    </tr>\n",
       "  </tbody>\n",
       "</table>\n",
       "</div>"
      ],
      "text/plain": [
       "     symboling  wheelbase  carheight  cylindernumber  compressionratio  \\\n",
       "177        0.2   0.544828   0.508333             0.2           0.10625   \n",
       "75         0.6   0.555172   0.583333             0.2           0.06250   \n",
       "174        0.2   0.544828   0.591667             0.2           0.96875   \n",
       "31         0.8   0.000000   0.250000             0.2           0.13750   \n",
       "12         0.4   0.503448   0.541667             0.4           0.12500   \n",
       "\n",
       "      peakrpm  citympg     price  aspiration_turbo  carbody_hatchback  \\\n",
       "177  0.020408     0.56  0.152177               0.0                1.0   \n",
       "75   0.346939     0.24  0.282632               1.0                1.0   \n",
       "174  0.142857     0.68  0.138523               1.0                0.0   \n",
       "31   0.755102     0.72  0.043121               0.0                1.0   \n",
       "12   0.040816     0.32  0.393526               0.0                0.0   \n",
       "\n",
       "     carbody_wagon  drivewheel_fwd  enginetype_ohc  fuelsystem_2bbl  \n",
       "177            0.0             1.0             1.0              0.0  \n",
       "75             0.0             0.0             1.0              0.0  \n",
       "174            0.0             1.0             1.0              0.0  \n",
       "31             0.0             1.0             1.0              0.0  \n",
       "12             0.0             0.0             1.0              0.0  "
      ]
     },
     "execution_count": 90,
     "metadata": {},
     "output_type": "execute_result"
    }
   ],
   "source": [
    "df_train.head()"
   ]
  },
  {
   "cell_type": "code",
   "execution_count": 91,
   "metadata": {},
   "outputs": [],
   "source": [
    "# creating independent variables of training data\n",
    "X_train=df_train.drop([\"price\"],axis=1)"
   ]
  },
  {
   "cell_type": "code",
   "execution_count": 92,
   "metadata": {},
   "outputs": [],
   "source": [
    "# creating dependent variable of training data\n",
    "y_train=df_train.pop(\"price\")"
   ]
  },
  {
   "cell_type": "code",
   "execution_count": 94,
   "metadata": {},
   "outputs": [
    {
     "data": {
      "text/plain": [
       "((143,), (143, 13))"
      ]
     },
     "execution_count": 94,
     "metadata": {},
     "output_type": "execute_result"
    }
   ],
   "source": [
    "y_train.shape,X_train.shape"
   ]
  },
  {
   "cell_type": "code",
   "execution_count": 96,
   "metadata": {},
   "outputs": [
    {
     "data": {
      "text/html": [
       "<table class=\"simpletable\">\n",
       "<caption>OLS Regression Results</caption>\n",
       "<tr>\n",
       "  <th>Dep. Variable:</th>          <td>price</td>      <th>  R-squared:         </th> <td>   0.834</td>\n",
       "</tr>\n",
       "<tr>\n",
       "  <th>Model:</th>                   <td>OLS</td>       <th>  Adj. R-squared:    </th> <td>   0.817</td>\n",
       "</tr>\n",
       "<tr>\n",
       "  <th>Method:</th>             <td>Least Squares</td>  <th>  F-statistic:       </th> <td>   49.74</td>\n",
       "</tr>\n",
       "<tr>\n",
       "  <th>Date:</th>             <td>Sun, 09 Aug 2020</td> <th>  Prob (F-statistic):</th> <td>8.57e-44</td>\n",
       "</tr>\n",
       "<tr>\n",
       "  <th>Time:</th>                 <td>01:06:20</td>     <th>  Log-Likelihood:    </th> <td>  160.00</td>\n",
       "</tr>\n",
       "<tr>\n",
       "  <th>No. Observations:</th>      <td>   143</td>      <th>  AIC:               </th> <td>  -292.0</td>\n",
       "</tr>\n",
       "<tr>\n",
       "  <th>Df Residuals:</th>          <td>   129</td>      <th>  BIC:               </th> <td>  -250.5</td>\n",
       "</tr>\n",
       "<tr>\n",
       "  <th>Df Model:</th>              <td>    13</td>      <th>                     </th>     <td> </td>   \n",
       "</tr>\n",
       "<tr>\n",
       "  <th>Covariance Type:</th>      <td>nonrobust</td>    <th>                     </th>     <td> </td>   \n",
       "</tr>\n",
       "</table>\n",
       "<table class=\"simpletable\">\n",
       "<tr>\n",
       "          <td></td>             <th>coef</th>     <th>std err</th>      <th>t</th>      <th>P>|t|</th>  <th>[0.025</th>    <th>0.975]</th>  \n",
       "</tr>\n",
       "<tr>\n",
       "  <th>const</th>             <td>   -0.0222</td> <td>    0.076</td> <td>   -0.293</td> <td> 0.770</td> <td>   -0.172</td> <td>    0.128</td>\n",
       "</tr>\n",
       "<tr>\n",
       "  <th>symboling</th>         <td>    0.1093</td> <td>    0.041</td> <td>    2.697</td> <td> 0.008</td> <td>    0.029</td> <td>    0.189</td>\n",
       "</tr>\n",
       "<tr>\n",
       "  <th>wheelbase</th>         <td>    0.2477</td> <td>    0.063</td> <td>    3.909</td> <td> 0.000</td> <td>    0.122</td> <td>    0.373</td>\n",
       "</tr>\n",
       "<tr>\n",
       "  <th>carheight</th>         <td>    0.0115</td> <td>    0.054</td> <td>    0.214</td> <td> 0.831</td> <td>   -0.095</td> <td>    0.118</td>\n",
       "</tr>\n",
       "<tr>\n",
       "  <th>cylindernumber</th>    <td>    0.7657</td> <td>    0.080</td> <td>    9.535</td> <td> 0.000</td> <td>    0.607</td> <td>    0.925</td>\n",
       "</tr>\n",
       "<tr>\n",
       "  <th>compressionratio</th>  <td>    0.1148</td> <td>    0.048</td> <td>    2.394</td> <td> 0.018</td> <td>    0.020</td> <td>    0.210</td>\n",
       "</tr>\n",
       "<tr>\n",
       "  <th>peakrpm</th>           <td>    0.0843</td> <td>    0.045</td> <td>    1.872</td> <td> 0.064</td> <td>   -0.005</td> <td>    0.174</td>\n",
       "</tr>\n",
       "<tr>\n",
       "  <th>citympg</th>           <td>   -0.3257</td> <td>    0.064</td> <td>   -5.082</td> <td> 0.000</td> <td>   -0.453</td> <td>   -0.199</td>\n",
       "</tr>\n",
       "<tr>\n",
       "  <th>aspiration_turbo</th>  <td>    0.0090</td> <td>    0.021</td> <td>    0.421</td> <td> 0.674</td> <td>   -0.033</td> <td>    0.051</td>\n",
       "</tr>\n",
       "<tr>\n",
       "  <th>carbody_hatchback</th> <td>   -0.0385</td> <td>    0.018</td> <td>   -2.179</td> <td> 0.031</td> <td>   -0.074</td> <td>   -0.004</td>\n",
       "</tr>\n",
       "<tr>\n",
       "  <th>carbody_wagon</th>     <td>   -0.0778</td> <td>    0.026</td> <td>   -2.989</td> <td> 0.003</td> <td>   -0.129</td> <td>   -0.026</td>\n",
       "</tr>\n",
       "<tr>\n",
       "  <th>drivewheel_fwd</th>    <td>   -0.0648</td> <td>    0.020</td> <td>   -3.257</td> <td> 0.001</td> <td>   -0.104</td> <td>   -0.025</td>\n",
       "</tr>\n",
       "<tr>\n",
       "  <th>enginetype_ohc</th>    <td>    0.0303</td> <td>    0.020</td> <td>    1.539</td> <td> 0.126</td> <td>   -0.009</td> <td>    0.069</td>\n",
       "</tr>\n",
       "<tr>\n",
       "  <th>fuelsystem_2bbl</th>   <td>    0.0134</td> <td>    0.023</td> <td>    0.595</td> <td> 0.553</td> <td>   -0.031</td> <td>    0.058</td>\n",
       "</tr>\n",
       "</table>\n",
       "<table class=\"simpletable\">\n",
       "<tr>\n",
       "  <th>Omnibus:</th>       <td>15.002</td> <th>  Durbin-Watson:     </th> <td>   2.058</td>\n",
       "</tr>\n",
       "<tr>\n",
       "  <th>Prob(Omnibus):</th> <td> 0.001</td> <th>  Jarque-Bera (JB):  </th> <td>  23.066</td>\n",
       "</tr>\n",
       "<tr>\n",
       "  <th>Skew:</th>          <td> 0.545</td> <th>  Prob(JB):          </th> <td>9.80e-06</td>\n",
       "</tr>\n",
       "<tr>\n",
       "  <th>Kurtosis:</th>      <td> 4.639</td> <th>  Cond. No.          </th> <td>    30.4</td>\n",
       "</tr>\n",
       "</table><br/><br/>Warnings:<br/>[1] Standard Errors assume that the covariance matrix of the errors is correctly specified."
      ],
      "text/plain": [
       "<class 'statsmodels.iolib.summary.Summary'>\n",
       "\"\"\"\n",
       "                            OLS Regression Results                            \n",
       "==============================================================================\n",
       "Dep. Variable:                  price   R-squared:                       0.834\n",
       "Model:                            OLS   Adj. R-squared:                  0.817\n",
       "Method:                 Least Squares   F-statistic:                     49.74\n",
       "Date:                Sun, 09 Aug 2020   Prob (F-statistic):           8.57e-44\n",
       "Time:                        01:06:20   Log-Likelihood:                 160.00\n",
       "No. Observations:                 143   AIC:                            -292.0\n",
       "Df Residuals:                     129   BIC:                            -250.5\n",
       "Df Model:                          13                                         \n",
       "Covariance Type:            nonrobust                                         \n",
       "=====================================================================================\n",
       "                        coef    std err          t      P>|t|      [0.025      0.975]\n",
       "-------------------------------------------------------------------------------------\n",
       "const                -0.0222      0.076     -0.293      0.770      -0.172       0.128\n",
       "symboling             0.1093      0.041      2.697      0.008       0.029       0.189\n",
       "wheelbase             0.2477      0.063      3.909      0.000       0.122       0.373\n",
       "carheight             0.0115      0.054      0.214      0.831      -0.095       0.118\n",
       "cylindernumber        0.7657      0.080      9.535      0.000       0.607       0.925\n",
       "compressionratio      0.1148      0.048      2.394      0.018       0.020       0.210\n",
       "peakrpm               0.0843      0.045      1.872      0.064      -0.005       0.174\n",
       "citympg              -0.3257      0.064     -5.082      0.000      -0.453      -0.199\n",
       "aspiration_turbo      0.0090      0.021      0.421      0.674      -0.033       0.051\n",
       "carbody_hatchback    -0.0385      0.018     -2.179      0.031      -0.074      -0.004\n",
       "carbody_wagon        -0.0778      0.026     -2.989      0.003      -0.129      -0.026\n",
       "drivewheel_fwd       -0.0648      0.020     -3.257      0.001      -0.104      -0.025\n",
       "enginetype_ohc        0.0303      0.020      1.539      0.126      -0.009       0.069\n",
       "fuelsystem_2bbl       0.0134      0.023      0.595      0.553      -0.031       0.058\n",
       "==============================================================================\n",
       "Omnibus:                       15.002   Durbin-Watson:                   2.058\n",
       "Prob(Omnibus):                  0.001   Jarque-Bera (JB):               23.066\n",
       "Skew:                           0.545   Prob(JB):                     9.80e-06\n",
       "Kurtosis:                       4.639   Cond. No.                         30.4\n",
       "==============================================================================\n",
       "\n",
       "Warnings:\n",
       "[1] Standard Errors assume that the covariance matrix of the errors is correctly specified.\n",
       "\"\"\""
      ]
     },
     "execution_count": 96,
     "metadata": {},
     "output_type": "execute_result"
    }
   ],
   "source": [
    "#Making the model using statsmodel (sm)\n",
    "X_train_1=sm.add_constant(X_train)\n",
    "lm = sm.OLS(y_train,X_train_1).fit()\n",
    "lm.summary()\n",
    "\n"
   ]
  },
  {
   "cell_type": "code",
   "execution_count": 103,
   "metadata": {},
   "outputs": [],
   "source": [
    "X_train_ite1=X_train.drop([\"carheight\",'aspiration_turbo','fuelsystem_2bbl','enginetype_ohc'],axis=1)"
   ]
  },
  {
   "cell_type": "code",
   "execution_count": 104,
   "metadata": {},
   "outputs": [
    {
     "data": {
      "text/html": [
       "<table class=\"simpletable\">\n",
       "<caption>OLS Regression Results</caption>\n",
       "<tr>\n",
       "  <th>Dep. Variable:</th>          <td>price</td>      <th>  R-squared:         </th> <td>   0.830</td>\n",
       "</tr>\n",
       "<tr>\n",
       "  <th>Model:</th>                   <td>OLS</td>       <th>  Adj. R-squared:    </th> <td>   0.819</td>\n",
       "</tr>\n",
       "<tr>\n",
       "  <th>Method:</th>             <td>Least Squares</td>  <th>  F-statistic:       </th> <td>   72.20</td>\n",
       "</tr>\n",
       "<tr>\n",
       "  <th>Date:</th>             <td>Sun, 09 Aug 2020</td> <th>  Prob (F-statistic):</th> <td>7.84e-47</td>\n",
       "</tr>\n",
       "<tr>\n",
       "  <th>Time:</th>                 <td>01:13:24</td>     <th>  Log-Likelihood:    </th> <td>  158.47</td>\n",
       "</tr>\n",
       "<tr>\n",
       "  <th>No. Observations:</th>      <td>   143</td>      <th>  AIC:               </th> <td>  -296.9</td>\n",
       "</tr>\n",
       "<tr>\n",
       "  <th>Df Residuals:</th>          <td>   133</td>      <th>  BIC:               </th> <td>  -267.3</td>\n",
       "</tr>\n",
       "<tr>\n",
       "  <th>Df Model:</th>              <td>     9</td>      <th>                     </th>     <td> </td>   \n",
       "</tr>\n",
       "<tr>\n",
       "  <th>Covariance Type:</th>      <td>nonrobust</td>    <th>                     </th>     <td> </td>   \n",
       "</tr>\n",
       "</table>\n",
       "<table class=\"simpletable\">\n",
       "<tr>\n",
       "          <td></td>             <th>coef</th>     <th>std err</th>      <th>t</th>      <th>P>|t|</th>  <th>[0.025</th>    <th>0.975]</th>  \n",
       "</tr>\n",
       "<tr>\n",
       "  <th>const</th>             <td>    0.0170</td> <td>    0.068</td> <td>    0.249</td> <td> 0.804</td> <td>   -0.118</td> <td>    0.152</td>\n",
       "</tr>\n",
       "<tr>\n",
       "  <th>symboling</th>         <td>    0.0973</td> <td>    0.040</td> <td>    2.462</td> <td> 0.015</td> <td>    0.019</td> <td>    0.175</td>\n",
       "</tr>\n",
       "<tr>\n",
       "  <th>wheelbase</th>         <td>    0.2519</td> <td>    0.056</td> <td>    4.470</td> <td> 0.000</td> <td>    0.140</td> <td>    0.363</td>\n",
       "</tr>\n",
       "<tr>\n",
       "  <th>cylindernumber</th>    <td>    0.7297</td> <td>    0.073</td> <td>   10.060</td> <td> 0.000</td> <td>    0.586</td> <td>    0.873</td>\n",
       "</tr>\n",
       "<tr>\n",
       "  <th>compressionratio</th>  <td>    0.1026</td> <td>    0.039</td> <td>    2.621</td> <td> 0.010</td> <td>    0.025</td> <td>    0.180</td>\n",
       "</tr>\n",
       "<tr>\n",
       "  <th>peakrpm</th>           <td>    0.0717</td> <td>    0.041</td> <td>    1.748</td> <td> 0.083</td> <td>   -0.009</td> <td>    0.153</td>\n",
       "</tr>\n",
       "<tr>\n",
       "  <th>citympg</th>           <td>   -0.3058</td> <td>    0.054</td> <td>   -5.677</td> <td> 0.000</td> <td>   -0.412</td> <td>   -0.199</td>\n",
       "</tr>\n",
       "<tr>\n",
       "  <th>carbody_hatchback</th> <td>   -0.0389</td> <td>    0.017</td> <td>   -2.306</td> <td> 0.023</td> <td>   -0.072</td> <td>   -0.006</td>\n",
       "</tr>\n",
       "<tr>\n",
       "  <th>carbody_wagon</th>     <td>   -0.0820</td> <td>    0.024</td> <td>   -3.474</td> <td> 0.001</td> <td>   -0.129</td> <td>   -0.035</td>\n",
       "</tr>\n",
       "<tr>\n",
       "  <th>drivewheel_fwd</th>    <td>   -0.0537</td> <td>    0.019</td> <td>   -2.904</td> <td> 0.004</td> <td>   -0.090</td> <td>   -0.017</td>\n",
       "</tr>\n",
       "</table>\n",
       "<table class=\"simpletable\">\n",
       "<tr>\n",
       "  <th>Omnibus:</th>       <td>13.183</td> <th>  Durbin-Watson:     </th> <td>   2.053</td>\n",
       "</tr>\n",
       "<tr>\n",
       "  <th>Prob(Omnibus):</th> <td> 0.001</td> <th>  Jarque-Bera (JB):  </th> <td>  21.314</td>\n",
       "</tr>\n",
       "<tr>\n",
       "  <th>Skew:</th>          <td> 0.456</td> <th>  Prob(JB):          </th> <td>2.35e-05</td>\n",
       "</tr>\n",
       "<tr>\n",
       "  <th>Kurtosis:</th>      <td> 4.657</td> <th>  Cond. No.          </th> <td>    24.3</td>\n",
       "</tr>\n",
       "</table><br/><br/>Warnings:<br/>[1] Standard Errors assume that the covariance matrix of the errors is correctly specified."
      ],
      "text/plain": [
       "<class 'statsmodels.iolib.summary.Summary'>\n",
       "\"\"\"\n",
       "                            OLS Regression Results                            \n",
       "==============================================================================\n",
       "Dep. Variable:                  price   R-squared:                       0.830\n",
       "Model:                            OLS   Adj. R-squared:                  0.819\n",
       "Method:                 Least Squares   F-statistic:                     72.20\n",
       "Date:                Sun, 09 Aug 2020   Prob (F-statistic):           7.84e-47\n",
       "Time:                        01:13:24   Log-Likelihood:                 158.47\n",
       "No. Observations:                 143   AIC:                            -296.9\n",
       "Df Residuals:                     133   BIC:                            -267.3\n",
       "Df Model:                           9                                         \n",
       "Covariance Type:            nonrobust                                         \n",
       "=====================================================================================\n",
       "                        coef    std err          t      P>|t|      [0.025      0.975]\n",
       "-------------------------------------------------------------------------------------\n",
       "const                 0.0170      0.068      0.249      0.804      -0.118       0.152\n",
       "symboling             0.0973      0.040      2.462      0.015       0.019       0.175\n",
       "wheelbase             0.2519      0.056      4.470      0.000       0.140       0.363\n",
       "cylindernumber        0.7297      0.073     10.060      0.000       0.586       0.873\n",
       "compressionratio      0.1026      0.039      2.621      0.010       0.025       0.180\n",
       "peakrpm               0.0717      0.041      1.748      0.083      -0.009       0.153\n",
       "citympg              -0.3058      0.054     -5.677      0.000      -0.412      -0.199\n",
       "carbody_hatchback    -0.0389      0.017     -2.306      0.023      -0.072      -0.006\n",
       "carbody_wagon        -0.0820      0.024     -3.474      0.001      -0.129      -0.035\n",
       "drivewheel_fwd       -0.0537      0.019     -2.904      0.004      -0.090      -0.017\n",
       "==============================================================================\n",
       "Omnibus:                       13.183   Durbin-Watson:                   2.053\n",
       "Prob(Omnibus):                  0.001   Jarque-Bera (JB):               21.314\n",
       "Skew:                           0.456   Prob(JB):                     2.35e-05\n",
       "Kurtosis:                       4.657   Cond. No.                         24.3\n",
       "==============================================================================\n",
       "\n",
       "Warnings:\n",
       "[1] Standard Errors assume that the covariance matrix of the errors is correctly specified.\n",
       "\"\"\""
      ]
     },
     "execution_count": 104,
     "metadata": {},
     "output_type": "execute_result"
    }
   ],
   "source": [
    "X_train_2=sm.add_constant(X_train_ite1)\n",
    "lm_1 = sm.OLS(y_train,X_train_2).fit()\n",
    "lm_1.summary()"
   ]
  },
  {
   "cell_type": "code",
   "execution_count": 105,
   "metadata": {},
   "outputs": [],
   "source": [
    "from statsmodels.stats.outliers_influence import variance_inflation_factor"
   ]
  },
  {
   "cell_type": "code",
   "execution_count": 107,
   "metadata": {},
   "outputs": [
    {
     "data": {
      "text/html": [
       "<div>\n",
       "<style scoped>\n",
       "    .dataframe tbody tr th:only-of-type {\n",
       "        vertical-align: middle;\n",
       "    }\n",
       "\n",
       "    .dataframe tbody tr th {\n",
       "        vertical-align: top;\n",
       "    }\n",
       "\n",
       "    .dataframe thead th {\n",
       "        text-align: right;\n",
       "    }\n",
       "</style>\n",
       "<table border=\"1\" class=\"dataframe\">\n",
       "  <thead>\n",
       "    <tr style=\"text-align: right;\">\n",
       "      <th></th>\n",
       "      <th>featues</th>\n",
       "      <th>VIF</th>\n",
       "    </tr>\n",
       "  </thead>\n",
       "  <tbody>\n",
       "    <tr>\n",
       "      <th>5</th>\n",
       "      <td>citympg</td>\n",
       "      <td>8.26</td>\n",
       "    </tr>\n",
       "    <tr>\n",
       "      <th>0</th>\n",
       "      <td>symboling</td>\n",
       "      <td>6.86</td>\n",
       "    </tr>\n",
       "    <tr>\n",
       "      <th>4</th>\n",
       "      <td>peakrpm</td>\n",
       "      <td>5.86</td>\n",
       "    </tr>\n",
       "    <tr>\n",
       "      <th>1</th>\n",
       "      <td>wheelbase</td>\n",
       "      <td>5.70</td>\n",
       "    </tr>\n",
       "    <tr>\n",
       "      <th>2</th>\n",
       "      <td>cylindernumber</td>\n",
       "      <td>5.69</td>\n",
       "    </tr>\n",
       "    <tr>\n",
       "      <th>8</th>\n",
       "      <td>drivewheel_fwd</td>\n",
       "      <td>4.14</td>\n",
       "    </tr>\n",
       "    <tr>\n",
       "      <th>3</th>\n",
       "      <td>compressionratio</td>\n",
       "      <td>2.71</td>\n",
       "    </tr>\n",
       "    <tr>\n",
       "      <th>6</th>\n",
       "      <td>carbody_hatchback</td>\n",
       "      <td>1.95</td>\n",
       "    </tr>\n",
       "    <tr>\n",
       "      <th>7</th>\n",
       "      <td>carbody_wagon</td>\n",
       "      <td>1.33</td>\n",
       "    </tr>\n",
       "  </tbody>\n",
       "</table>\n",
       "</div>"
      ],
      "text/plain": [
       "             featues   VIF\n",
       "5            citympg  8.26\n",
       "0          symboling  6.86\n",
       "4            peakrpm  5.86\n",
       "1          wheelbase  5.70\n",
       "2     cylindernumber  5.69\n",
       "8     drivewheel_fwd  4.14\n",
       "3   compressionratio  2.71\n",
       "6  carbody_hatchback  1.95\n",
       "7      carbody_wagon  1.33"
      ]
     },
     "execution_count": 107,
     "metadata": {},
     "output_type": "execute_result"
    }
   ],
   "source": [
    "vif = pd.DataFrame()\n",
    "X=X_train_2.drop(\"const\",axis=1)\n",
    "vif['featues'] = X.columns\n",
    "vif['VIF']=[variance_inflation_factor(X.values,i) for i in range(X.shape[1])]\n",
    "vif['VIF'] = round(vif['VIF'],2)\n",
    "vif=vif.sort_values(by='VIF',ascending=False)\n",
    "vif"
   ]
  },
  {
   "cell_type": "code",
   "execution_count": 115,
   "metadata": {},
   "outputs": [
    {
     "data": {
      "text/html": [
       "<table class=\"simpletable\">\n",
       "<caption>OLS Regression Results</caption>\n",
       "<tr>\n",
       "  <th>Dep. Variable:</th>          <td>price</td>      <th>  R-squared:         </th> <td>   0.830</td>\n",
       "</tr>\n",
       "<tr>\n",
       "  <th>Model:</th>                   <td>OLS</td>       <th>  Adj. R-squared:    </th> <td>   0.819</td>\n",
       "</tr>\n",
       "<tr>\n",
       "  <th>Method:</th>             <td>Least Squares</td>  <th>  F-statistic:       </th> <td>   72.20</td>\n",
       "</tr>\n",
       "<tr>\n",
       "  <th>Date:</th>             <td>Sun, 09 Aug 2020</td> <th>  Prob (F-statistic):</th> <td>7.84e-47</td>\n",
       "</tr>\n",
       "<tr>\n",
       "  <th>Time:</th>                 <td>01:22:54</td>     <th>  Log-Likelihood:    </th> <td>  158.47</td>\n",
       "</tr>\n",
       "<tr>\n",
       "  <th>No. Observations:</th>      <td>   143</td>      <th>  AIC:               </th> <td>  -296.9</td>\n",
       "</tr>\n",
       "<tr>\n",
       "  <th>Df Residuals:</th>          <td>   133</td>      <th>  BIC:               </th> <td>  -267.3</td>\n",
       "</tr>\n",
       "<tr>\n",
       "  <th>Df Model:</th>              <td>     9</td>      <th>                     </th>     <td> </td>   \n",
       "</tr>\n",
       "<tr>\n",
       "  <th>Covariance Type:</th>      <td>nonrobust</td>    <th>                     </th>     <td> </td>   \n",
       "</tr>\n",
       "</table>\n",
       "<table class=\"simpletable\">\n",
       "<tr>\n",
       "          <td></td>             <th>coef</th>     <th>std err</th>      <th>t</th>      <th>P>|t|</th>  <th>[0.025</th>    <th>0.975]</th>  \n",
       "</tr>\n",
       "<tr>\n",
       "  <th>const</th>             <td>    0.0170</td> <td>    0.068</td> <td>    0.249</td> <td> 0.804</td> <td>   -0.118</td> <td>    0.152</td>\n",
       "</tr>\n",
       "<tr>\n",
       "  <th>symboling</th>         <td>    0.0973</td> <td>    0.040</td> <td>    2.462</td> <td> 0.015</td> <td>    0.019</td> <td>    0.175</td>\n",
       "</tr>\n",
       "<tr>\n",
       "  <th>wheelbase</th>         <td>    0.2519</td> <td>    0.056</td> <td>    4.470</td> <td> 0.000</td> <td>    0.140</td> <td>    0.363</td>\n",
       "</tr>\n",
       "<tr>\n",
       "  <th>cylindernumber</th>    <td>    0.7297</td> <td>    0.073</td> <td>   10.060</td> <td> 0.000</td> <td>    0.586</td> <td>    0.873</td>\n",
       "</tr>\n",
       "<tr>\n",
       "  <th>compressionratio</th>  <td>    0.1026</td> <td>    0.039</td> <td>    2.621</td> <td> 0.010</td> <td>    0.025</td> <td>    0.180</td>\n",
       "</tr>\n",
       "<tr>\n",
       "  <th>peakrpm</th>           <td>    0.0717</td> <td>    0.041</td> <td>    1.748</td> <td> 0.083</td> <td>   -0.009</td> <td>    0.153</td>\n",
       "</tr>\n",
       "<tr>\n",
       "  <th>citympg</th>           <td>   -0.3058</td> <td>    0.054</td> <td>   -5.677</td> <td> 0.000</td> <td>   -0.412</td> <td>   -0.199</td>\n",
       "</tr>\n",
       "<tr>\n",
       "  <th>carbody_hatchback</th> <td>   -0.0389</td> <td>    0.017</td> <td>   -2.306</td> <td> 0.023</td> <td>   -0.072</td> <td>   -0.006</td>\n",
       "</tr>\n",
       "<tr>\n",
       "  <th>carbody_wagon</th>     <td>   -0.0820</td> <td>    0.024</td> <td>   -3.474</td> <td> 0.001</td> <td>   -0.129</td> <td>   -0.035</td>\n",
       "</tr>\n",
       "<tr>\n",
       "  <th>drivewheel_fwd</th>    <td>   -0.0537</td> <td>    0.019</td> <td>   -2.904</td> <td> 0.004</td> <td>   -0.090</td> <td>   -0.017</td>\n",
       "</tr>\n",
       "</table>\n",
       "<table class=\"simpletable\">\n",
       "<tr>\n",
       "  <th>Omnibus:</th>       <td>13.183</td> <th>  Durbin-Watson:     </th> <td>   2.053</td>\n",
       "</tr>\n",
       "<tr>\n",
       "  <th>Prob(Omnibus):</th> <td> 0.001</td> <th>  Jarque-Bera (JB):  </th> <td>  21.314</td>\n",
       "</tr>\n",
       "<tr>\n",
       "  <th>Skew:</th>          <td> 0.456</td> <th>  Prob(JB):          </th> <td>2.35e-05</td>\n",
       "</tr>\n",
       "<tr>\n",
       "  <th>Kurtosis:</th>      <td> 4.657</td> <th>  Cond. No.          </th> <td>    24.3</td>\n",
       "</tr>\n",
       "</table><br/><br/>Warnings:<br/>[1] Standard Errors assume that the covariance matrix of the errors is correctly specified."
      ],
      "text/plain": [
       "<class 'statsmodels.iolib.summary.Summary'>\n",
       "\"\"\"\n",
       "                            OLS Regression Results                            \n",
       "==============================================================================\n",
       "Dep. Variable:                  price   R-squared:                       0.830\n",
       "Model:                            OLS   Adj. R-squared:                  0.819\n",
       "Method:                 Least Squares   F-statistic:                     72.20\n",
       "Date:                Sun, 09 Aug 2020   Prob (F-statistic):           7.84e-47\n",
       "Time:                        01:22:54   Log-Likelihood:                 158.47\n",
       "No. Observations:                 143   AIC:                            -296.9\n",
       "Df Residuals:                     133   BIC:                            -267.3\n",
       "Df Model:                           9                                         \n",
       "Covariance Type:            nonrobust                                         \n",
       "=====================================================================================\n",
       "                        coef    std err          t      P>|t|      [0.025      0.975]\n",
       "-------------------------------------------------------------------------------------\n",
       "const                 0.0170      0.068      0.249      0.804      -0.118       0.152\n",
       "symboling             0.0973      0.040      2.462      0.015       0.019       0.175\n",
       "wheelbase             0.2519      0.056      4.470      0.000       0.140       0.363\n",
       "cylindernumber        0.7297      0.073     10.060      0.000       0.586       0.873\n",
       "compressionratio      0.1026      0.039      2.621      0.010       0.025       0.180\n",
       "peakrpm               0.0717      0.041      1.748      0.083      -0.009       0.153\n",
       "citympg              -0.3058      0.054     -5.677      0.000      -0.412      -0.199\n",
       "carbody_hatchback    -0.0389      0.017     -2.306      0.023      -0.072      -0.006\n",
       "carbody_wagon        -0.0820      0.024     -3.474      0.001      -0.129      -0.035\n",
       "drivewheel_fwd       -0.0537      0.019     -2.904      0.004      -0.090      -0.017\n",
       "==============================================================================\n",
       "Omnibus:                       13.183   Durbin-Watson:                   2.053\n",
       "Prob(Omnibus):                  0.001   Jarque-Bera (JB):               21.314\n",
       "Skew:                           0.456   Prob(JB):                     2.35e-05\n",
       "Kurtosis:                       4.657   Cond. No.                         24.3\n",
       "==============================================================================\n",
       "\n",
       "Warnings:\n",
       "[1] Standard Errors assume that the covariance matrix of the errors is correctly specified.\n",
       "\"\"\""
      ]
     },
     "execution_count": 115,
     "metadata": {},
     "output_type": "execute_result"
    }
   ],
   "source": [
    "X_train_2=X_train_2.drop(\"const\",axis=1)\n",
    "X_train_4=sm.add_constant(X_train_2)\n",
    "lm4 = sm.OLS(y_train,X_train_4).fit()\n",
    "lm4.summary()"
   ]
  },
  {
   "cell_type": "code",
   "execution_count": null,
   "metadata": {},
   "outputs": [],
   "source": [
    "##  VIF , P-values and R2 score looks significant so we can say that this is our final model \n",
    "## built and we have our best 8-9 variables that are helping us in predicting."
   ]
  },
  {
   "cell_type": "code",
   "execution_count": null,
   "metadata": {},
   "outputs": [],
   "source": [
    "# model validation:"
   ]
  },
  {
   "cell_type": "code",
   "execution_count": 117,
   "metadata": {},
   "outputs": [
    {
     "data": {
      "text/plain": [
       "Index(['symboling', 'wheelbase', 'cylindernumber', 'compressionratio',\n",
       "       'peakrpm', 'citympg', 'carbody_hatchback', 'carbody_wagon',\n",
       "       'drivewheel_fwd'],\n",
       "      dtype='object')"
      ]
     },
     "execution_count": 117,
     "metadata": {},
     "output_type": "execute_result"
    }
   ],
   "source": [
    "X_train_2.columns"
   ]
  },
  {
   "cell_type": "code",
   "execution_count": 118,
   "metadata": {},
   "outputs": [],
   "source": [
    "y_train_pred=lm4.predict(X_train_4)"
   ]
  },
  {
   "cell_type": "code",
   "execution_count": 120,
   "metadata": {},
   "outputs": [
    {
     "data": {
      "text/plain": [
       "0.8301001588540853"
      ]
     },
     "execution_count": 120,
     "metadata": {},
     "output_type": "execute_result"
    },
    {
     "data": {
      "image/png": "[encoded data removed]",
      "text/plain": [
       "<Figure size 432x288 with 1 Axes>"
      ]
     },
     "metadata": {
      "needs_background": "light"
     },
     "output_type": "display_data"
    }
   ],
   "source": [
    "import seaborn as sb\n",
    "res = y_train - y_train_pred\n",
    "plt.axvline(x=0,color=\"red\")\n",
    "\n",
    "#distribution plot of error terms-\n",
    "plt.xlabel(\"errors\",fontsize=15)\n",
    "sb.distplot(res,rug=True,color='red')\n",
    "r2_score (y_train, y_train_pred)"
   ]
  },
  {
   "cell_type": "code",
   "execution_count": 121,
   "metadata": {
    "collapsed": true
   },
   "outputs": [
    {
     "name": "stderr",
     "output_type": "stream",
     "text": [
      "<ipython-input-121-1a7b0563f93e>:3: SettingWithCopyWarning: \n",
      "A value is trying to be set on a copy of a slice from a DataFrame.\n",
      "Try using .loc[row_indexer,col_indexer] = value instead\n",
      "\n",
      "See the caveats in the documentation: https://pandas.pydata.org/pandas-docs/stable/user_guide/indexing.html#returning-a-view-versus-a-copy\n",
      "  df_test[cols]=scale.transform(df_test[cols])\n",
      "C:\\Users\\dh207150\\Anaconda3\\lib\\site-packages\\pandas\\core\\indexing.py:966: SettingWithCopyWarning: \n",
      "A value is trying to be set on a copy of a slice from a DataFrame.\n",
      "Try using .loc[row_indexer,col_indexer] = value instead\n",
      "\n",
      "See the caveats in the documentation: https://pandas.pydata.org/pandas-docs/stable/user_guide/indexing.html#returning-a-view-versus-a-copy\n",
      "  self.obj[item] = s\n"
     ]
    }
   ],
   "source": [
    "# test data:\n",
    "\n",
    "df_test[cols]=scale.transform(df_test[cols])"
   ]
  },
  {
   "cell_type": "code",
   "execution_count": 122,
   "metadata": {},
   "outputs": [],
   "source": [
    "# final model var\n",
    "var=['symboling', 'wheelbase', 'cylindernumber', 'compressionratio',\n",
    "       'peakrpm', 'citympg', 'carbody_hatchback', 'carbody_wagon',\n",
    "       'drivewheel_fwd']"
   ]
  },
  {
   "cell_type": "code",
   "execution_count": 127,
   "metadata": {},
   "outputs": [],
   "source": [
    "# test on shorlisted var:\n",
    "\n",
    "f_test_var=df_test[var]"
   ]
  },
  {
   "cell_type": "code",
   "execution_count": 128,
   "metadata": {},
   "outputs": [
    {
     "data": {
      "text/plain": [
       "(62, 9)"
      ]
     },
     "execution_count": 128,
     "metadata": {},
     "output_type": "execute_result"
    }
   ],
   "source": [
    "f_test_var.shape"
   ]
  },
  {
   "cell_type": "code",
   "execution_count": 130,
   "metadata": {},
   "outputs": [],
   "source": [
    "df_test_var=sm.add_constant(f_test_var)"
   ]
  },
  {
   "cell_type": "code",
   "execution_count": 131,
   "metadata": {},
   "outputs": [],
   "source": [
    "y_test=df_test.pop(\"price\")\n",
    "X_test_var=df_test_var"
   ]
  },
  {
   "cell_type": "code",
   "execution_count": 134,
   "metadata": {},
   "outputs": [
    {
     "data": {
      "text/plain": [
       "((62,),\n",
       " Index(['const', 'symboling', 'wheelbase', 'cylindernumber', 'compressionratio',\n",
       "        'peakrpm', 'citympg', 'carbody_hatchback', 'carbody_wagon',\n",
       "        'drivewheel_fwd'],\n",
       "       dtype='object'))"
      ]
     },
     "execution_count": 134,
     "metadata": {},
     "output_type": "execute_result"
    }
   ],
   "source": [
    "y_test.shape,X_test_var.columns"
   ]
  },
  {
   "cell_type": "code",
   "execution_count": 135,
   "metadata": {},
   "outputs": [],
   "source": [
    "y_test_pred=lm4.predict(X_test_var)"
   ]
  },
  {
   "cell_type": "code",
   "execution_count": 136,
   "metadata": {},
   "outputs": [
    {
     "data": {
      "text/plain": [
       "<matplotlib.axes._subplots.AxesSubplot at 0x1df3c95bd30>"
      ]
     },
     "execution_count": 136,
     "metadata": {},
     "output_type": "execute_result"
    },
    {
     "data": {
      "image/png": "[encoded data removed]",
      "text/plain": [
       "<Figure size 432x288 with 1 Axes>"
      ]
     },
     "metadata": {
      "needs_background": "light"
     },
     "output_type": "display_data"
    }
   ],
   "source": [
    "res2 = y_test-y_test_pred\n",
    "plt.axvline(x=0,color=\"blue\")\n",
    "sb.distplot(res2,rug=True)"
   ]
  },
  {
   "cell_type": "code",
   "execution_count": 137,
   "metadata": {},
   "outputs": [
    {
     "data": {
      "text/plain": [
       "0.6950268810547456"
      ]
     },
     "execution_count": 137,
     "metadata": {},
     "output_type": "execute_result"
    }
   ],
   "source": [
    "#R2 score of the test data\n",
    "r2_score (y_test, y_test_pred)"
   ]
  },
  {
   "cell_type": "code",
   "execution_count": 138,
   "metadata": {},
   "outputs": [
    {
     "data": {
      "text/plain": [
       "<matplotlib.collections.PathCollection at 0x1df3c8f1a00>"
      ]
     },
     "execution_count": 138,
     "metadata": {},
     "output_type": "execute_result"
    },
    {
     "data": {
      "image/png": "[encoded data removed]",
      "text/plain": [
       "<Figure size 432x288 with 1 Axes>"
      ]
     },
     "metadata": {
      "needs_background": "light"
     },
     "output_type": "display_data"
    }
   ],
   "source": [
    "#ploting the y_test and Y-pred values\n",
    "plt.xlabel(\"y_test\",fontsize=15)\n",
    "plt.ylabel(\"y_pred\",fontsize=15)\n",
    "plt.scatter(y_test_pred,y_test)"
   ]
  }
 ],
 "metadata": {
  "kernelspec": {
   "display_name": "Python 3",
   "language": "python",
   "name": "python3"
  },
  "language_info": {
   "codemirror_mode": {
    "name": "ipython",
    "version": 3
   },
   "file_extension": ".py",
   "mimetype": "text/x-python",
   "name": "python",
   "nbconvert_exporter": "python",
   "pygments_lexer": "ipython3",
   "version": "3.8.3"
  }
 },
 "nbformat": 4,
 "nbformat_minor": 4
}
